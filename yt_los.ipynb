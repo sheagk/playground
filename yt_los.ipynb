{
 "cells": [
  {
   "cell_type": "code",
   "execution_count": 2,
   "metadata": {},
   "outputs": [],
   "source": [
    "%matplotlib inline\n",
    "from mytools3 import read_part_wetzel\n",
    "import yt\n",
    "import numpy as np\n",
    "import matplotlib.pyplot as plt"
   ]
  },
  {
   "cell_type": "code",
   "execution_count": 11,
   "metadata": {},
   "outputs": [],
   "source": [
    "import matplotlib\n",
    "from mytools3 import read_part_wetzel,backup_file,isint,isfloat,boxmsk\n",
    "from lg_scripts.hydro_scripts.dwarfs.constants import center_position_dict\n",
    "import sys,yt\n",
    "from yt.units import kiloparsec, Msun, km, s\n",
    "# from optparse import OptionParser\n",
    "import argparse\n",
    "import wutilities as ut\n",
    "import rockstar\n",
    "import numpy as np\n",
    "\n",
    "\n",
    "\n",
    "def parse_type_ops(opsstring,def_nref):\n",
    "    ops = opsstring.split(',')\n",
    "    opsdict = {}\n",
    "    n_ref = None\n",
    "    for op in ops:\n",
    "        key,val = op.split(':')\n",
    "        key = key.strip()\n",
    "        val = val.strip()\n",
    "        if key == 'n_ref':\n",
    "            n_ref = int(val)\n",
    "            continue\n",
    "\n",
    "        if isint(val):\n",
    "            opsdict[key] = int(val)\n",
    "        elif isfloat(val):\n",
    "            opsdict[key] = float(val)\n",
    "        else:\n",
    "            opsdict[key] = val\n",
    "\n",
    "    if def_nref > 0:\n",
    "        n_ref = def_nref\n",
    "\n",
    "    if n_ref is None:\n",
    "        raise KeyError(\"Must specify either a default n_ref or pass it in as part of the options for each particle type.\")\n",
    "    return opsdict,n_ref\n",
    "\n",
    "\n",
    "def parse_img_rotate(rotation, axis):\n",
    "    assert axis in [0, 1, 2, 'x', 'y', 'z']\n",
    "    rename = {'x':0, 'y':1, 'z':2}\n",
    "    if axis in rename:  axis = rename[axis]\n",
    "    \n",
    "    assert rotation in [0, 90, 180, 270]\n",
    "    \n",
    "    #easy case first -- no rotation, no inversions\n",
    "    if rotation == 0:\n",
    "        return [0, 1, 2], [1, 1, 1]\n",
    "\n",
    "    if axis == 0:   #projecting along x axis => z and y are plotted by default, with y on the x-axis and z on the y-axis\n",
    "        if rotation == 90:   #then I want -z on the y axis and +y on the x-axis\n",
    "            return [0, 2, 1], [1, 1, -1]\n",
    "        elif rotation == 180:  #effectively flip both axes\n",
    "            return [0, 1, 2], [1, -1, -1]\n",
    "        elif rotation == 270: \n",
    "            return [0, 2, 1], [1, -1, 1]\n",
    "    elif axis == 1:  #projecting along y axis => z and x are plotted by default, with x on the y-axis and z on the y-axis\n",
    "        if rotation == 90:  #then I want -z on the y axis and +x on the x axis => z -> -x, x -> z\n",
    "            return [2, 1, 0], [-1, 1, 1]\n",
    "        elif rotation == 180:\n",
    "            return [0, 1, 2], [-1, 1, -1]\n",
    "        elif rotation == 270:\n",
    "            return [2, 1, 0], [1, 1, -1]\n",
    "    elif axis == 2:     #prjecting along z axis => x on x-axis, y on y-axis\n",
    "        if rotation == 90:\n",
    "            return [1, 0, 2], [1, -1, 1]\n",
    "        elif rotation == 180:\n",
    "            return [0, 1, 2], [-1, -1, 0]\n",
    "        elif rotation == 270:\n",
    "            return [1, 0, 2], [-1, 1, 1]\n",
    "    raise KeyError(\"Passed in an invalid rotation or axis somehow\")"
   ]
  },
  {
   "cell_type": "code",
   "execution_count": 30,
   "metadata": {},
   "outputs": [
    {
     "name": "stdout",
     "output_type": "stream",
     "text": [
      "\n",
      "# in wutilities.simulation.Snapshot():\n",
      "  read snapshot_times.txt\n",
      "  reading snapshot index = 600, redshift = 0.000\n",
      "\n",
      "# in gizmo_analysis.gizmo_io.Read():\n",
      "* read header from: output/snapdir_600/snapshot_600.0.hdf5\n",
      "  snapshot contains the following number of particles:\n",
      "  dark      (id = 1): 70514272 particles\n",
      "  dark.2    (id = 2): 5513331 particles\n",
      "  gas       (id = 0): 57060074 particles\n",
      "  star      (id = 4): 13976485 particles\n",
      "  blackhole (id = 5): 0 particles\n",
      "\n",
      "* read particles\n",
      "  read star  : ['mass', 'position', 'velocity']\n",
      "  read gas   : ['mass', 'position', 'velocity']\n",
      "  from: snapshot_600.0.hdf5\n",
      "  from: snapshot_600.1.hdf5\n",
      "  from: snapshot_600.2.hdf5\n",
      "  from: snapshot_600.3.hdf5\n",
      "\n",
      "* read cosmological parameters from: initial_conditions/ic_agora_m12i.conf\n",
      "\n",
      "* checking sanity of particle properties\n",
      "\n",
      "* assigning center of galaxy/halo:\n",
      "  position = (41792.147, 44131.235, 46267.679) [kpc comoving]\n",
      "  velocity = (-52.5, 71.9, 95.2) [km / s]\n",
      "\n"
     ]
    }
   ],
   "source": [
    "part = read_part_wetzel('output/snapdir_600/', ['star', 'gas'], properties=['position','velocity','mass'], assign_center=True)"
   ]
  },
  {
   "cell_type": "code",
   "execution_count": 8,
   "metadata": {},
   "outputs": [],
   "source": [
    "cen = part.center_position\n",
    "vel = part.center_velocity"
   ]
  },
  {
   "cell_type": "code",
   "execution_count": 44,
   "metadata": {},
   "outputs": [
    {
     "name": "stderr",
     "output_type": "stream",
     "text": [
      "yt : [INFO     ] 2018-05-25 14:46:30,928 Parameters: current_time              = 0.0\n",
      "yt : [INFO     ] 2018-05-25 14:46:30,929 Parameters: domain_dimensions         = [2 2 2]\n",
      "yt : [INFO     ] 2018-05-25 14:46:30,930 Parameters: domain_left_edge          = [-15. -15. -15.]\n",
      "yt : [INFO     ] 2018-05-25 14:46:30,931 Parameters: domain_right_edge         = [15. 15. 15.]\n",
      "yt : [INFO     ] 2018-05-25 14:46:30,931 Parameters: cosmological_simulation   = 0.0\n"
     ]
    }
   ],
   "source": [
    "bsize = 30\n",
    "bl = [-bsize/2, bsize/2]\n",
    "bbox = np.array( [ bl, bl, bl])\n",
    "\n",
    "data = {}\n",
    "for ptype in part:\n",
    "    msk = boxmsk(part[ptype]['position'], cen, bsize/2)\n",
    "\n",
    "    data[(ptype,'particle_mass')] = part[ptype]['mass'][msk]\n",
    "\n",
    "    data[(ptype,'particle_position_x')] = part[ptype]['position'][msk][:,0] - cen[0]\n",
    "    data[(ptype,'particle_position_y')] = part[ptype]['position'][msk][:,1] - cen[1]\n",
    "    data[(ptype,'particle_position_z')] = part[ptype]['position'][msk][:,2] - cen[2]\n",
    "\n",
    "    data[(ptype,'particle_velocity_x')] = part[ptype]['velocity'][msk][:,0] - vel[0]\n",
    "    data[(ptype,'particle_velocity_y')] = part[ptype]['velocity'][msk][:,1] - vel[1]\n",
    "    data[(ptype,'particle_velocity_z')] = part[ptype]['velocity'][msk][:,2] - vel[2]\n",
    "\n",
    "\n",
    "ds = yt.load_particles(data, length_unit=kiloparsec, mass_unit=Msun, n_ref=32, bbox=bbox, velocity_unit=km/s)\n"
   ]
  },
  {
   "cell_type": "code",
   "execution_count": 49,
   "metadata": {},
   "outputs": [
    {
     "name": "stderr",
     "output_type": "stream",
     "text": [
      "yt : [INFO     ] 2018-05-25 14:48:02,641 Projection completed\n",
      "yt : [INFO     ] 2018-05-25 14:48:02,641 xlim = -15.000000 15.000000\n",
      "yt : [INFO     ] 2018-05-25 14:48:02,642 ylim = -15.000000 15.000000\n",
      "yt : [INFO     ] 2018-05-25 14:48:02,643 xlim = -15.000000 15.000000\n",
      "yt : [INFO     ] 2018-05-25 14:48:02,643 ylim = -15.000000 15.000000\n",
      "yt : [INFO     ] 2018-05-25 14:48:02,644 Making a fixed resolution buffer of (('deposit', 'gas_nn_velocity_x')) 800 by 800\n"
     ]
    }
   ],
   "source": [
    "prj = yt.ProjectionPlot(ds, 0, ('deposit', 'gas_nn_velocity_x'), center=[0,0,0], width=(bsize, 'kpc'))"
   ]
  },
  {
   "cell_type": "code",
   "execution_count": 50,
   "metadata": {},
   "outputs": [
    {
     "name": "stderr",
     "output_type": "stream",
     "text": [
      "yt : [INFO     ] 2018-05-25 14:48:04,006 Saving plot ParticleData_Projection_x_gas_nn_velocity_x.png\n"
     ]
    },
    {
     "data": {
      "text/plain": [
       "['ParticleData_Projection_x_gas_nn_velocity_x.png']"
      ]
     },
     "execution_count": 50,
     "metadata": {},
     "output_type": "execute_result"
    }
   ],
   "source": [
    "# prj.set_unit('gas_cic_velocity_x','km/s')\n",
    "prj.save()"
   ]
  },
  {
   "cell_type": "code",
   "execution_count": null,
   "metadata": {},
   "outputs": [],
   "source": []
  }
 ],
 "metadata": {
  "kernelspec": {
   "display_name": "Python 3",
   "language": "python",
   "name": "python3"
  },
  "language_info": {
   "codemirror_mode": {
    "name": "ipython",
    "version": 3
   },
   "file_extension": ".py",
   "mimetype": "text/x-python",
   "name": "python",
   "nbconvert_exporter": "python",
   "pygments_lexer": "ipython3",
   "version": "3.6.4"
  }
 },
 "nbformat": 4,
 "nbformat_minor": 2
}
